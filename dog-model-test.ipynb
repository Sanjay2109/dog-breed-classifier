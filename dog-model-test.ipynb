{
 "cells": [
  {
   "cell_type": "code",
   "execution_count": 1,
   "id": "b2043433",
   "metadata": {},
   "outputs": [],
   "source": [
    "from tensorflow import keras\n",
    "import tensorflow as tf\n",
    "import numpy as np\n",
    "import pandas as pd\n",
    "import pickle\n",
    "from PIL import Image"
   ]
  },
  {
   "cell_type": "code",
   "execution_count": 2,
   "id": "80405751",
   "metadata": {},
   "outputs": [],
   "source": [
    "model = keras.models.load_model(\"dog-detector-model\")"
   ]
  },
  {
   "cell_type": "code",
   "execution_count": 5,
   "id": "d4eeb7d1",
   "metadata": {},
   "outputs": [
    {
     "name": "stdout",
     "output_type": "stream",
     "text": [
      "(None, 1001)\n",
      "(None, 120)\n"
     ]
    }
   ],
   "source": [
    "for layer in model.layers:\n",
    "    print(layer.output_shape)"
   ]
  },
  {
   "cell_type": "code",
   "execution_count": null,
   "id": "43a9b46f",
   "metadata": {},
   "outputs": [],
   "source": [
    "labels = np.array(pd.read_csv(\"doggo-labels.csv\")[\"breed\"])\n",
    "unique_breeds = np.unique(labels)"
   ]
  },
  {
   "cell_type": "code",
   "execution_count": null,
   "id": "7f252340",
   "metadata": {},
   "outputs": [],
   "source": [
    "def get_pred_label(prediction_probabilities):\n",
    "    return unique_breeds[np.argmax(prediction_probabilities)]"
   ]
  },
  {
   "cell_type": "code",
   "execution_count": null,
   "id": "b46ecfbd",
   "metadata": {
    "scrolled": true
   },
   "outputs": [],
   "source": [
    "image = Image.open(\"doggo.jpg\")"
   ]
  },
  {
   "cell_type": "code",
   "execution_count": null,
   "id": "4b7273bf",
   "metadata": {},
   "outputs": [],
   "source": [
    "def process_image(image):\n",
    "    image = tf.image.convert_image_dtype(image, tf.float32)\n",
    "    image = tf.image.resize(image, size=[224, 224])\n",
    "\n",
    "    return image\n",
    "\n",
    "def batch(image): \n",
    "    data = tf.data.Dataset.from_tensor_slices([np.asarray(image)])\n",
    "    data_batch = data.map(process_image).batch(1)    \n",
    "\n",
    "    return data_batch"
   ]
  },
  {
   "cell_type": "code",
   "execution_count": null,
   "id": "6b371aa8",
   "metadata": {},
   "outputs": [],
   "source": [
    "get_pred_label(model.predict(batch(image)))"
   ]
  },
  {
   "cell_type": "code",
   "execution_count": null,
   "id": "3a9934de",
   "metadata": {},
   "outputs": [],
   "source": [
    "image = Image.open(\"foo.jpg\")\n",
    "get_pred_label(model.predict(batch(image)))"
   ]
  }
 ],
 "metadata": {
  "kernelspec": {
   "display_name": "Python 3 (ipykernel)",
   "language": "python",
   "name": "python3"
  },
  "language_info": {
   "codemirror_mode": {
    "name": "ipython",
    "version": 3
   },
   "file_extension": ".py",
   "mimetype": "text/x-python",
   "name": "python",
   "nbconvert_exporter": "python",
   "pygments_lexer": "ipython3",
   "version": "3.10.5"
  }
 },
 "nbformat": 4,
 "nbformat_minor": 5
}
